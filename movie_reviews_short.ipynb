{
 "cells": [
  {
   "cell_type": "markdown",
   "metadata": {},
   "source": [
    "We are going to build a movie review classifier, train it with short reviews and then perform live twitter sentiment analysis"
   ]
  },
  {
   "cell_type": "code",
   "execution_count": 2,
   "metadata": {
    "collapsed": true
   },
   "outputs": [],
   "source": [
    "#import statements\n",
    "import nltk\n",
    "import random\n",
    "from sklearn.naive_bayes import MultinomialNB\n",
    "from nltk.classify.scikitlearn import SklearnClassifier\n",
    "from nltk.classify import ClassifierI\n",
    "from statistics import mode"
   ]
  },
  {
   "cell_type": "code",
   "execution_count": 3,
   "metadata": {
    "collapsed": true
   },
   "outputs": [],
   "source": [
    "class VoteClassifier(ClassifierI):\n",
    "    def __init__(self,*classifiers):\n",
    "        self.classifiers=classifiers\n",
    "    def classify(self,features):\n",
    "        vote=[]\n",
    "        for c in self.classifiers:\n",
    "            v=c.classify(features)\n",
    "            vote.append(v)\n",
    "        return mode(vote)   \n",
    "    def confidence(self,features):\n",
    "        vote=[]\n",
    "        for c in self.classifiers:\n",
    "            v=c.classify(features)\n",
    "            vote.append(v)\n",
    "        choice_votes=vote.count(mode(vote)) \n",
    "        conf= choice_votes/len(vote)\n",
    "        return conf"
   ]
  },
  {
   "cell_type": "code",
   "execution_count": 6,
   "metadata": {
    "collapsed": true
   },
   "outputs": [],
   "source": [
    "short_neg_reviews=open('./negative.txt','r').read()\n",
    "short_pos_reviews=open('./positive.txt','r').read()"
   ]
  },
  {
   "cell_type": "code",
   "execution_count": 7,
   "metadata": {},
   "outputs": [],
   "source": [
    "documents=[]\n",
    "for w in short_neg_reviews.split('\\n'):\n",
    "    documents.append((w,'neg'))\n",
    "for w in short_pos_reviews.split('\\n'):\n",
    "    documents.append((w,'pos'))    "
   ]
  },
  {
   "cell_type": "code",
   "execution_count": 11,
   "metadata": {},
   "outputs": [],
   "source": [
    "from nltk.tokenize import word_tokenize\n",
    "all_words=[]\n",
    "short_pos_words=word_tokenize(short_pos_reviews)\n",
    "short_neg_words=word_tokenize(short_neg_reviews)\n",
    "for w in short_pos_words:\n",
    "    all_words.append(w.lower())\n",
    "for w in short_neg_words:\n",
    "    all_words.append(w.lower())    "
   ]
  },
  {
   "cell_type": "code",
   "execution_count": 12,
   "metadata": {
    "collapsed": true
   },
   "outputs": [],
   "source": [
    "#calculating frequecy of occurence of each word\n",
    "all_words=nltk.FreqDist(all_words)"
   ]
  },
  {
   "cell_type": "code",
   "execution_count": 13,
   "metadata": {
    "collapsed": true
   },
   "outputs": [],
   "source": [
    "#now we are going to use top 5000 words as features\n",
    "word_features=list(all_words.keys())[:5000]"
   ]
  },
  {
   "cell_type": "code",
   "execution_count": 14,
   "metadata": {
    "collapsed": true
   },
   "outputs": [],
   "source": [
    "#method to extract features from a given piece of text\n",
    "def find_features(document):\n",
    "    words=word_tokenize(document)\n",
    "    features={}\n",
    "    for w in word_features:\n",
    "        features[w]=(w in words)\n",
    "    return features    "
   ]
  },
  {
   "cell_type": "code",
   "execution_count": 15,
   "metadata": {
    "collapsed": true
   },
   "outputs": [],
   "source": [
    "#now we are extracting featureset from our document\n",
    "featuresets = [(find_features(rev), category) for (rev, category) in documents]\n",
    "random.shuffle(featuresets)"
   ]
  },
  {
   "cell_type": "code",
   "execution_count": 16,
   "metadata": {},
   "outputs": [
    {
     "name": "stdout",
     "output_type": "stream",
     "text": [
      "10664\n"
     ]
    }
   ],
   "source": [
    "print(len(featuresets))"
   ]
  },
  {
   "cell_type": "code",
   "execution_count": 17,
   "metadata": {
    "collapsed": true
   },
   "outputs": [],
   "source": [
    "#we have 10664 samples in our dataset, \n",
    "#we will use 10,000 for training and remaining for testing purpose\n",
    "training_set=featuresets[:10000]\n",
    "testing_set=featuresets[10000:]"
   ]
  },
  {
   "cell_type": "code",
   "execution_count": 18,
   "metadata": {},
   "outputs": [
    {
     "name": "stdout",
     "output_type": "stream",
     "text": [
      "Naive Bayes Algo accuracy percent:  72.59036144578313\n",
      "Most Informative Features\n",
      "              engrossing = True              pos : neg    =     21.0 : 1.0\n",
      "                provides = True              pos : neg    =     18.3 : 1.0\n",
      "               inventive = True              pos : neg    =     14.3 : 1.0\n",
      "              refreshing = True              pos : neg    =     14.3 : 1.0\n",
      "            refreshingly = True              pos : neg    =     12.3 : 1.0\n",
      "               wonderful = True              pos : neg    =     12.2 : 1.0\n",
      "                    warm = True              pos : neg    =     12.2 : 1.0\n",
      "                  stupid = True              neg : pos    =     11.4 : 1.0\n",
      "              thoughtful = True              pos : neg    =     11.4 : 1.0\n",
      "             mesmerizing = True              pos : neg    =     11.0 : 1.0\n",
      "                  unless = True              neg : pos    =     10.3 : 1.0\n",
      "                    ages = True              pos : neg    =     10.3 : 1.0\n",
      "               realistic = True              pos : neg    =     10.3 : 1.0\n",
      "                captures = True              pos : neg    =     10.2 : 1.0\n",
      "             challenging = True              pos : neg    =      9.7 : 1.0\n"
     ]
    }
   ],
   "source": [
    "#now using naive bayes classifier\n",
    "classifier= nltk.NaiveBayesClassifier.train(training_set)\n",
    "print(\"Naive Bayes Algo accuracy percent: \", (nltk.classify.accuracy(classifier,testing_set))*100)\n",
    "classifier.show_most_informative_features(15)"
   ]
  },
  {
   "cell_type": "code",
   "execution_count": 19,
   "metadata": {},
   "outputs": [
    {
     "name": "stdout",
     "output_type": "stream",
     "text": [
      "Multinomial Algo accuracy percent:  70.33132530120481\n"
     ]
    }
   ],
   "source": [
    "#multinomial classifier\n",
    "multinomial_classifier=SklearnClassifier(MultinomialNB())\n",
    "multinomial_classifier.train(training_set)\n",
    "print(\"Multinomial Algo accuracy percent: \", (nltk.classify.accuracy(multinomial_classifier,testing_set))*100)"
   ]
  },
  {
   "cell_type": "code",
   "execution_count": 20,
   "metadata": {
    "collapsed": true
   },
   "outputs": [],
   "source": [
    "#now using other ml classification algorithms\n",
    "from sklearn.linear_model import LogisticRegression, SGDClassifier\n",
    "from sklearn.svm import SVC, LinearSVC, NuSVC\n"
   ]
  },
  {
   "cell_type": "code",
   "execution_count": 21,
   "metadata": {},
   "outputs": [
    {
     "name": "stdout",
     "output_type": "stream",
     "text": [
      "Logistic Algo accuracy percent:  73.79518072289156\n"
     ]
    }
   ],
   "source": [
    "logistic_classifier= SklearnClassifier(LogisticRegression())\n",
    "logistic_classifier.train(training_set)\n",
    "print(\"Logistic Algo accuracy percent: \", (nltk.classify.accuracy(logistic_classifier,testing_set))*100)"
   ]
  },
  {
   "cell_type": "code",
   "execution_count": 22,
   "metadata": {},
   "outputs": [
    {
     "name": "stderr",
     "output_type": "stream",
     "text": [
      "C:\\Users\\incep\\Anaconda3\\lib\\site-packages\\sklearn\\linear_model\\stochastic_gradient.py:128: FutureWarning: max_iter and tol parameters have been added in <class 'sklearn.linear_model.stochastic_gradient.SGDClassifier'> in 0.19. If both are left unset, they default to max_iter=5 and tol=None. If tol is not None, max_iter defaults to max_iter=1000. From 0.21, default max_iter will be 1000, and default tol will be 1e-3.\n",
      "  \"and default tol will be 1e-3.\" % type(self), FutureWarning)\n"
     ]
    },
    {
     "name": "stdout",
     "output_type": "stream",
     "text": [
      "SGD Algo accuracy percent:  69.27710843373494\n"
     ]
    }
   ],
   "source": [
    "sgd_classifier= SklearnClassifier(SGDClassifier())\n",
    "sgd_classifier.train(training_set)\n",
    "print(\"SGD Algo accuracy percent: \", (nltk.classify.accuracy(sgd_classifier,testing_set))*100)"
   ]
  },
  {
   "cell_type": "code",
   "execution_count": 23,
   "metadata": {},
   "outputs": [
    {
     "name": "stdout",
     "output_type": "stream",
     "text": [
      "SVC Algo accuracy percent:  49.6987951807229\n"
     ]
    }
   ],
   "source": [
    "svc_classifier= SklearnClassifier(SVC())\n",
    "svc_classifier.train(training_set)\n",
    "print(\"SVC Algo accuracy percent: \", (nltk.classify.accuracy(svc_classifier,testing_set))*100)"
   ]
  },
  {
   "cell_type": "code",
   "execution_count": 24,
   "metadata": {},
   "outputs": [
    {
     "name": "stdout",
     "output_type": "stream",
     "text": [
      "LinearVC Algo accuracy percent:  73.04216867469879\n"
     ]
    }
   ],
   "source": [
    "lsvc_classifier= SklearnClassifier(LinearSVC())\n",
    "lsvc_classifier.train(training_set)\n",
    "print(\"LinearVC Algo accuracy percent: \", (nltk.classify.accuracy(lsvc_classifier,testing_set))*100)"
   ]
  },
  {
   "cell_type": "code",
   "execution_count": 25,
   "metadata": {},
   "outputs": [
    {
     "name": "stdout",
     "output_type": "stream",
     "text": [
      "NuSVC Algo accuracy percent:  73.79518072289156\n"
     ]
    }
   ],
   "source": [
    "nusvc_classifier= SklearnClassifier(NuSVC())\n",
    "nusvc_classifier.train(training_set)\n",
    "print(\"NuSVC Algo accuracy percent: \", (nltk.classify.accuracy(nusvc_classifier,testing_set))*100)"
   ]
  },
  {
   "cell_type": "code",
   "execution_count": 28,
   "metadata": {},
   "outputs": [
    {
     "name": "stdout",
     "output_type": "stream",
     "text": [
      "Voted Algo accuracy percent:  73.64457831325302\n"
     ]
    }
   ],
   "source": [
    "voted_classifier=VoteClassifier(logistic_classifier,lsvc_classifier,nusvc_classifier)\n",
    "print(\"Voted Algo accuracy percent: \", (nltk.classify.accuracy(voted_classifier,testing_set))*100)"
   ]
  },
  {
   "cell_type": "code",
   "execution_count": 29,
   "metadata": {
    "collapsed": true
   },
   "outputs": [],
   "source": [
    "def sentiment(text):\n",
    "    feats=find_features(text)\n",
    "    return voted_classifier.classify(feats), voted_classifier.confidence(feats)"
   ]
  },
  {
   "cell_type": "code",
   "execution_count": 42,
   "metadata": {},
   "outputs": [
    {
     "name": "stdout",
     "output_type": "stream",
     "text": [
      "('pos', 1.0)\n"
     ]
    }
   ],
   "source": [
    "print(sentiment('engrossing movie'))\n"
   ]
  },
  {
   "cell_type": "code",
   "execution_count": null,
   "metadata": {
    "collapsed": true
   },
   "outputs": [],
   "source": []
  }
 ],
 "metadata": {
  "kernelspec": {
   "display_name": "Python 3",
   "language": "python",
   "name": "python3"
  },
  "language_info": {
   "codemirror_mode": {
    "name": "ipython",
    "version": 3
   },
   "file_extension": ".py",
   "mimetype": "text/x-python",
   "name": "python",
   "nbconvert_exporter": "python",
   "pygments_lexer": "ipython3",
   "version": "3.6.3"
  }
 },
 "nbformat": 4,
 "nbformat_minor": 2
}
